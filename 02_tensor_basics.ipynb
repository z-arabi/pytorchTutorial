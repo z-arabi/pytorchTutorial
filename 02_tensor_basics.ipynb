{
  "nbformat": 4,
  "nbformat_minor": 0,
  "metadata": {
    "colab": {
      "name": "02_tensor_basics.ipynb",
      "provenance": [],
      "authorship_tag": "ABX9TyPJ+0teKs+eFmzGuFOHF+1G",
      "include_colab_link": true
    },
    "kernelspec": {
      "name": "python3",
      "display_name": "Python 3"
    },
    "language_info": {
      "name": "python"
    },
    "accelerator": "GPU"
  },
  "cells": [
    {
      "cell_type": "markdown",
      "metadata": {
        "id": "view-in-github",
        "colab_type": "text"
      },
      "source": [
        "<a href=\"https://colab.research.google.com/github/z-arabi/pytorchTutorial/blob/master/02_tensor_basics.ipynb\" target=\"_parent\"><img src=\"https://colab.research.google.com/assets/colab-badge.svg\" alt=\"Open In Colab\"/></a>"
      ]
    },
    {
      "cell_type": "code",
      "source": [
        "import torch\n",
        "\n",
        "# Everything in pytorch is based on Tensor operations.\n",
        "# A tensor can have different dimensions\n",
        "# so it can be 1d, 2d, or even 3d and higher\n",
        "\n",
        "# scalar, vector, matrix, tensor"
      ],
      "metadata": {
        "id": "aevO_Mej-t1x"
      },
      "execution_count": 2,
      "outputs": []
    },
    {
      "cell_type": "code",
      "source": [
        "# torch.empty(size): uninitiallized\n",
        "x = torch.empty(1) # scalar\n",
        "print(x)\n",
        "x = torch.empty(3) # vector, 1D\n",
        "print(x)\n",
        "x = torch.empty(2,3) # matrix, 2D\n",
        "print(x)\n",
        "x = torch.empty(2,2,3) # tensor, 3 dimensions\n",
        "#x = torch.empty(2,2,2,3) # tensor, 4 dimensions\n",
        "print(x)"
      ],
      "metadata": {
        "colab": {
          "base_uri": "https://localhost:8080/"
        },
        "id": "EWV-veH_-2f-",
        "outputId": "39e53596-300c-4e89-eaeb-3c089d27961c"
      },
      "execution_count": 3,
      "outputs": [
        {
          "output_type": "stream",
          "name": "stdout",
          "text": [
            "tensor([-6.0086e+19])\n",
            "tensor([-6.0087e+19,  3.0613e-41,  5.0447e-44])\n",
            "tensor([[-6.0087e+19,  3.0613e-41,  5.0447e-44],\n",
            "        [ 0.0000e+00,         nan,  3.0613e-41]])\n",
            "tensor([[[-6.0087e+19,  3.0613e-41,  5.0447e-44],\n",
            "         [ 0.0000e+00,         nan,  3.0613e-41]],\n",
            "\n",
            "        [[ 1.3788e-14,  3.6423e-06,  2.0699e-19],\n",
            "         [ 3.3738e-12,  7.4086e+28,  6.9397e+22]]])\n"
          ]
        }
      ]
    },
    {
      "cell_type": "code",
      "source": [
        "# torch.rand(size): random numbers [0, 1]\n",
        "x = torch.rand(5, 3)\n",
        "print(x)"
      ],
      "metadata": {
        "colab": {
          "base_uri": "https://localhost:8080/"
        },
        "id": "foChXQYd-5sG",
        "outputId": "3ba96f28-084d-4a5f-c27c-cd2c41c826d6"
      },
      "execution_count": 4,
      "outputs": [
        {
          "output_type": "stream",
          "name": "stdout",
          "text": [
            "tensor([[0.2530, 0.4093, 0.6680],\n",
            "        [0.1465, 0.1946, 0.5402],\n",
            "        [0.1133, 0.8879, 0.4688],\n",
            "        [0.7251, 0.4483, 0.0784],\n",
            "        [0.5737, 0.5724, 0.3480]])\n"
          ]
        }
      ]
    },
    {
      "cell_type": "code",
      "source": [
        "# torch.zeros(size), fill with 0\n",
        "# torch.ones(size), fill with 1\n",
        "x = torch.zeros(5, 3)\n",
        "print(x)"
      ],
      "metadata": {
        "colab": {
          "base_uri": "https://localhost:8080/"
        },
        "id": "3cXm2Fet-7RH",
        "outputId": "c3e354f1-a927-4cbb-ef4d-49462550179c"
      },
      "execution_count": 5,
      "outputs": [
        {
          "output_type": "stream",
          "name": "stdout",
          "text": [
            "tensor([[0., 0., 0.],\n",
            "        [0., 0., 0.],\n",
            "        [0., 0., 0.],\n",
            "        [0., 0., 0.],\n",
            "        [0., 0., 0.]])\n"
          ]
        }
      ]
    },
    {
      "cell_type": "code",
      "source": [
        "# check size\n",
        "print(x.size())"
      ],
      "metadata": {
        "colab": {
          "base_uri": "https://localhost:8080/"
        },
        "id": "xWkuTEQL-9Wh",
        "outputId": "8aa2911a-2335-4190-ef9f-0992f0e0a8db"
      },
      "execution_count": 6,
      "outputs": [
        {
          "output_type": "stream",
          "name": "stdout",
          "text": [
            "torch.Size([5, 3])\n"
          ]
        }
      ]
    },
    {
      "cell_type": "code",
      "source": [
        "# check data type\n",
        "print(x.dtype)\n",
        "\n",
        "# specify types, float32 default\n",
        "x = torch.zeros(5, 3, dtype=torch.float16)\n",
        "print(x)\n",
        "\n",
        "# check type\n",
        "print(x.dtype)"
      ],
      "metadata": {
        "colab": {
          "base_uri": "https://localhost:8080/"
        },
        "id": "T_ODhB2r-_Ok",
        "outputId": "46545d35-b7c7-4211-c647-15343baf3259"
      },
      "execution_count": 7,
      "outputs": [
        {
          "output_type": "stream",
          "name": "stdout",
          "text": [
            "torch.float32\n",
            "tensor([[0., 0., 0.],\n",
            "        [0., 0., 0.],\n",
            "        [0., 0., 0.],\n",
            "        [0., 0., 0.],\n",
            "        [0., 0., 0.]], dtype=torch.float16)\n",
            "torch.float16\n"
          ]
        }
      ]
    },
    {
      "cell_type": "code",
      "source": [
        "# construct from data\n",
        "x = torch.tensor([5.5, 3])\n",
        "print(x.size())"
      ],
      "metadata": {
        "colab": {
          "base_uri": "https://localhost:8080/"
        },
        "id": "P69cL7S7_C1j",
        "outputId": "11c8c86f-5fd1-4071-c550-d285572d0689"
      },
      "execution_count": 8,
      "outputs": [
        {
          "output_type": "stream",
          "name": "stdout",
          "text": [
            "torch.Size([2])\n"
          ]
        }
      ]
    },
    {
      "cell_type": "code",
      "source": [
        "# requires_grad argument\n",
        "# This will tell pytorch that it will need to calculate the gradients for this tensor\n",
        "# later in your optimization steps\n",
        "# i.e. this is a variable in your model that you want to optimize\n",
        "x = torch.tensor([5.5, 3], requires_grad=True)\n",
        "print(x)"
      ],
      "metadata": {
        "colab": {
          "base_uri": "https://localhost:8080/"
        },
        "id": "pTqVC-TT_FY7",
        "outputId": "5c304a65-f983-4abe-8d4d-22f04e02a1e7"
      },
      "execution_count": 9,
      "outputs": [
        {
          "output_type": "stream",
          "name": "stdout",
          "text": [
            "tensor([5.5000, 3.0000], requires_grad=True)\n"
          ]
        }
      ]
    },
    {
      "cell_type": "code",
      "source": [
        "# Operations\n",
        "y = torch.rand(2, 2)\n",
        "x = torch.rand(2, 2)\n",
        "print(\"x is \",x)\n",
        "print(\"y is \",y)\n",
        "\n",
        "# elementwise addition\n",
        "z1 = x + y\n",
        "print(z1)\n",
        "\n",
        "z2 = torch.add(x,y)\n",
        "print(z2)\n",
        "\n",
        "# in place addition, everythin with a trailing underscore is an inplace operation\n",
        "# i.e. it will modify the variable\n",
        "y2 = y\n",
        "print(y2)\n",
        "y2.add_(x)\n",
        "print(y2)"
      ],
      "metadata": {
        "colab": {
          "base_uri": "https://localhost:8080/"
        },
        "id": "OYGCxiKD_Jsd",
        "outputId": "c4209414-1e55-4c9d-e79a-a3d6c20e2216"
      },
      "execution_count": 10,
      "outputs": [
        {
          "output_type": "stream",
          "name": "stdout",
          "text": [
            "x is  tensor([[0.9553, 0.4526],\n",
            "        [0.2520, 0.6369]])\n",
            "y is  tensor([[0.6576, 0.0884],\n",
            "        [0.2052, 0.8267]])\n",
            "tensor([[1.6129, 0.5410],\n",
            "        [0.4571, 1.4636]])\n",
            "tensor([[1.6129, 0.5410],\n",
            "        [0.4571, 1.4636]])\n",
            "tensor([[0.6576, 0.0884],\n",
            "        [0.2052, 0.8267]])\n",
            "tensor([[1.6129, 0.5410],\n",
            "        [0.4571, 1.4636]])\n"
          ]
        }
      ]
    },
    {
      "cell_type": "code",
      "source": [
        "# substraction\n",
        "z = x - y\n",
        "z = torch.sub(x, y)\n",
        "z"
      ],
      "metadata": {
        "colab": {
          "base_uri": "https://localhost:8080/"
        },
        "id": "KJLzPCiu_SWo",
        "outputId": "ddac0520-be11-4994-f554-be5f4e40e8bd"
      },
      "execution_count": 11,
      "outputs": [
        {
          "output_type": "execute_result",
          "data": {
            "text/plain": [
              "tensor([[-0.6576, -0.0884],\n",
              "        [-0.2052, -0.8267]])"
            ]
          },
          "metadata": {},
          "execution_count": 11
        }
      ]
    },
    {
      "cell_type": "code",
      "source": [
        "# multiplication\n",
        "z = x * y\n",
        "z = torch.mul(x,y)\n",
        "z"
      ],
      "metadata": {
        "colab": {
          "base_uri": "https://localhost:8080/"
        },
        "id": "Ago8TaiR_pAt",
        "outputId": "485dbc09-93b1-412d-a927-507868be0086"
      },
      "execution_count": 12,
      "outputs": [
        {
          "output_type": "execute_result",
          "data": {
            "text/plain": [
              "tensor([[1.5409, 0.2448],\n",
              "        [0.1152, 0.9322]])"
            ]
          },
          "metadata": {},
          "execution_count": 12
        }
      ]
    },
    {
      "cell_type": "code",
      "source": [
        "# division\n",
        "z = x / y\n",
        "z = torch.div(x,y)\n",
        "z"
      ],
      "metadata": {
        "colab": {
          "base_uri": "https://localhost:8080/"
        },
        "id": "CAunkz5Y_sLy",
        "outputId": "23afcfcd-40c8-4110-ad81-6b5d9423cee2"
      },
      "execution_count": 13,
      "outputs": [
        {
          "output_type": "execute_result",
          "data": {
            "text/plain": [
              "tensor([[0.5923, 0.8366],\n",
              "        [0.5512, 0.4352]])"
            ]
          },
          "metadata": {},
          "execution_count": 13
        }
      ]
    },
    {
      "cell_type": "code",
      "source": [
        "# Slicing\n",
        "x = torch.rand(5,3)\n",
        "print(x)\n",
        "print(x[:, 0]) # all rows, column 0\n",
        "print(x[1, :]) # row 1, all columns\n",
        "print(x[1,1]) # element at 1, 1"
      ],
      "metadata": {
        "colab": {
          "base_uri": "https://localhost:8080/"
        },
        "id": "dfbIUYfE_vdq",
        "outputId": "62449767-7699-4842-eb7b-cc3bda6f2ddb"
      },
      "execution_count": 14,
      "outputs": [
        {
          "output_type": "stream",
          "name": "stdout",
          "text": [
            "tensor([[0.8292, 0.7949, 0.2661],\n",
            "        [0.3183, 0.7260, 0.8025],\n",
            "        [0.8025, 0.9500, 0.6653],\n",
            "        [0.8209, 0.6538, 0.1918],\n",
            "        [0.4853, 0.9717, 0.9662]])\n",
            "tensor([0.8292, 0.3183, 0.8025, 0.8209, 0.4853])\n",
            "tensor([0.3183, 0.7260, 0.8025])\n",
            "tensor(0.7260)\n"
          ]
        }
      ]
    },
    {
      "cell_type": "code",
      "source": [
        "# Get the actual value if only 1 element in your tensor\n",
        "print(x[1,1].item())"
      ],
      "metadata": {
        "colab": {
          "base_uri": "https://localhost:8080/"
        },
        "id": "LKI7ffqc_yK2",
        "outputId": "d52e1093-592e-489c-f14e-b138824a8517"
      },
      "execution_count": 15,
      "outputs": [
        {
          "output_type": "stream",
          "name": "stdout",
          "text": [
            "0.7260116934776306\n"
          ]
        }
      ]
    },
    {
      "cell_type": "code",
      "source": [
        "# Reshape with torch.view()\n",
        "x = torch.randn(4, 4)\n",
        "y = x.view(16)\n",
        "z = x.view(-1, 8)  # the size -1 is inferred from other dimensions\n",
        "# if -1 it pytorch will automatically determine the necessary size\n",
        "print(x.size(), y.size(), z.size())"
      ],
      "metadata": {
        "colab": {
          "base_uri": "https://localhost:8080/"
        },
        "id": "qo9aEwxH_2eM",
        "outputId": "a13e5f96-6df4-45b0-8883-db2c4ed7fc74"
      },
      "execution_count": 16,
      "outputs": [
        {
          "output_type": "stream",
          "name": "stdout",
          "text": [
            "torch.Size([4, 4]) torch.Size([16]) torch.Size([2, 8])\n"
          ]
        }
      ]
    },
    {
      "cell_type": "code",
      "source": [
        "# Numpy\n",
        "# Converting a Torch Tensor to a NumPy array and vice versa is very easy\n",
        "a = torch.ones(5)\n",
        "print(a)"
      ],
      "metadata": {
        "colab": {
          "base_uri": "https://localhost:8080/"
        },
        "id": "EOBByDbf_4gJ",
        "outputId": "1f0305a6-8e29-4878-a075-6ec5f6652864"
      },
      "execution_count": 22,
      "outputs": [
        {
          "output_type": "stream",
          "name": "stdout",
          "text": [
            "tensor([1., 1., 1., 1., 1.])\n"
          ]
        }
      ]
    },
    {
      "cell_type": "code",
      "source": [
        "# torch to numpy with .numpy()\n",
        "b = a.numpy()\n",
        "print(b)\n",
        "print(type(b))\n",
        "\n",
        "# Carful: If the Tensor is on the CPU (not the GPU),\n",
        "# both objects will share the same memory location, so changing one\n",
        "# will also change the other\n",
        "a.add_(1)\n",
        "print(a)\n",
        "print(b)"
      ],
      "metadata": {
        "colab": {
          "base_uri": "https://localhost:8080/"
        },
        "id": "HFEI6VGJ_6cI",
        "outputId": "a3824bf0-efea-48b9-8b0c-5be38805c82e"
      },
      "execution_count": 23,
      "outputs": [
        {
          "output_type": "stream",
          "name": "stdout",
          "text": [
            "[1. 1. 1. 1. 1.]\n",
            "<class 'numpy.ndarray'>\n",
            "tensor([2., 2., 2., 2., 2.])\n",
            "[2. 2. 2. 2. 2.]\n"
          ]
        }
      ]
    },
    {
      "cell_type": "code",
      "source": [
        "# numpy to torch with .from_numpy(x)\n",
        "import numpy as np\n",
        "a = np.ones(5)\n",
        "b = torch.from_numpy(a)\n",
        "print(a)\n",
        "print(b)\n",
        "\n",
        "# again be careful when modifying\n",
        "a += 1\n",
        "print(a)\n",
        "print(b)"
      ],
      "metadata": {
        "colab": {
          "base_uri": "https://localhost:8080/"
        },
        "id": "QcgObRzpATcJ",
        "outputId": "40b79d7d-20c4-4e35-9abd-d749a0544362"
      },
      "execution_count": 24,
      "outputs": [
        {
          "output_type": "stream",
          "name": "stdout",
          "text": [
            "[1. 1. 1. 1. 1.]\n",
            "tensor([1., 1., 1., 1., 1.], dtype=torch.float64)\n",
            "[2. 2. 2. 2. 2.]\n",
            "tensor([2., 2., 2., 2., 2.], dtype=torch.float64)\n"
          ]
        }
      ]
    },
    {
      "cell_type": "code",
      "source": [
        "print(torch.cuda.is_available())\n",
        "print(torch.device(\"cuda\"))"
      ],
      "metadata": {
        "colab": {
          "base_uri": "https://localhost:8080/"
        },
        "id": "AwOpVeKpAqwf",
        "outputId": "f3b28a70-e47b-458d-c24d-fd164168fe51"
      },
      "execution_count": 26,
      "outputs": [
        {
          "output_type": "stream",
          "name": "stdout",
          "text": [
            "True\n",
            "cuda\n"
          ]
        }
      ]
    },
    {
      "cell_type": "code",
      "source": [
        "# by default all tensors are created on the CPU,\n",
        "# but you can also move them to the GPU (only if it's available )\n",
        "if torch.cuda.is_available():\n",
        "    device = torch.device(\"cuda\")          # a CUDA device object\n",
        "\n",
        "    x = torch.ones(5, device=device)  # directly create a tensor on GPU\n",
        "\n",
        "    y = torch.ones(5)\n",
        "    y = y.to(device)                       # or just use strings ``.to(\"cuda\")``\n",
        "\n",
        "    z = x + y # z is in GPU\n",
        "    # z = z.numpy() # not possible because numpy cannot handle GPU tenors\n",
        "\n",
        "    # move to CPU again\n",
        "    z = z.to(\"cpu\")       # ``.to`` can also change dtype together!\n",
        "    print(z.dtype)\n",
        "    z = z.numpy()\n",
        "    print(z.dtype)\n"
      ],
      "metadata": {
        "colab": {
          "base_uri": "https://localhost:8080/"
        },
        "id": "29GxMZL9AqUD",
        "outputId": "08c2cc84-7797-471d-b921-65db5de3c222"
      },
      "execution_count": 29,
      "outputs": [
        {
          "output_type": "stream",
          "name": "stdout",
          "text": [
            "torch.float32\n",
            "float32\n"
          ]
        }
      ]
    }
  ]
}