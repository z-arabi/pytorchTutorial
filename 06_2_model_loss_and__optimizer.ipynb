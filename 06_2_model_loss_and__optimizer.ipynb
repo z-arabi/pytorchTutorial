{
  "nbformat": 4,
  "nbformat_minor": 0,
  "metadata": {
    "colab": {
      "name": "06_2_model_loss_and_ optimizer.ipynb",
      "provenance": [],
      "authorship_tag": "ABX9TyOAxcEOMADXGYI3GLQc94M5",
      "include_colab_link": true
    },
    "kernelspec": {
      "name": "python3",
      "display_name": "Python 3"
    },
    "language_info": {
      "name": "python"
    }
  },
  "cells": [
    {
      "cell_type": "markdown",
      "metadata": {
        "id": "view-in-github",
        "colab_type": "text"
      },
      "source": [
        "<a href=\"https://colab.research.google.com/github/z-arabi/pytorchTutorial/blob/master/06_2_model_loss_and__optimizer.ipynb\" target=\"_parent\"><img src=\"https://colab.research.google.com/assets/colab-badge.svg\" alt=\"Open In Colab\"/></a>"
      ]
    },
    {
      "cell_type": "code",
      "execution_count": 2,
      "metadata": {
        "id": "mM3OKGzDQ-Er"
      },
      "outputs": [],
      "source": [
        "# 1) Design model (input, output, forward pass with different layers)\n",
        "# 2) Construct loss and optimizer\n",
        "# 3) Training loop\n",
        "#       - Forward = compute prediction and loss\n",
        "#       - Backward = compute gradients\n",
        "#       - Update weights"
      ]
    },
    {
      "cell_type": "code",
      "source": [
        "import torch\n",
        "import torch.nn as nn"
      ],
      "metadata": {
        "id": "WPhaW5VZRBrk"
      },
      "execution_count": 3,
      "outputs": []
    },
    {
      "cell_type": "code",
      "source": [
        "# Linear regression\n",
        "# f = w * x \n",
        "\n",
        "# here : f = 2 * x"
      ],
      "metadata": {
        "id": "WdpD3YgERBpA"
      },
      "execution_count": 4,
      "outputs": []
    },
    {
      "cell_type": "code",
      "source": [
        "# 0) Training samples, watch the shape! > the x and y must be 2D array\n",
        "# rows > number of samples + in each row we have the features\n",
        "X = torch.tensor([[1], [2], [3], [4]], dtype=torch.float32)\n",
        "Y = torch.tensor([[2], [4], [6], [8]], dtype=torch.float32)\n",
        "\n",
        "n_samples, n_features = X.shape\n",
        "print(f'#samples: {n_samples}, #features: {n_features}')"
      ],
      "metadata": {
        "colab": {
          "base_uri": "https://localhost:8080/"
        },
        "id": "ib5w4eRjRBmr",
        "outputId": "62e3e961-978b-4991-a774-22c3ad654d0a"
      },
      "execution_count": 5,
      "outputs": [
        {
          "output_type": "stream",
          "name": "stdout",
          "text": [
            "#samples: 4, #features: 1\n"
          ]
        }
      ]
    },
    {
      "cell_type": "code",
      "source": [
        "# by making the model automatic > we don't need the weights anymore > the model knows how to behave\n",
        "\n",
        "# 1) Design Model, the model has to implement the forward pass!\n",
        "# Here we can use a built-in model from PyTorch\n",
        "input_size = n_features\n",
        "output_size = n_features\n",
        "\n",
        "# we can call this model with samples X > model(X)\n",
        "model = nn.Linear(input_size, output_size)\n",
        "\n",
        "'''\n",
        "how to define a class of models > all are inhereted from nn.Module\n",
        "class LinearRegression(nn.Module):\n",
        "    def __init__(self, input_dim, output_dim):\n",
        "        super(LinearRegression, self).__init__()\n",
        "        # define diferent layers\n",
        "        self.model = nn.Linear(input_dim, output_dim)\n",
        "\n",
        "    def forward(self, x):\n",
        "        return self.model(x)\n",
        "\n",
        "model = LinearRegression(input_size, output_size)\n",
        "'''"
      ],
      "metadata": {
        "id": "ZTEL41YlRBkH"
      },
      "execution_count": 6,
      "outputs": []
    },
    {
      "cell_type": "code",
      "source": [
        "# in the model everything works with tensor > so u have to define tensor for X_test\n",
        "# 0) create a test sample\n",
        "X_test = torch.tensor([5], dtype=torch.float32)\n",
        "\n"
      ],
      "metadata": {
        "id": "G5MyFInrRBhw"
      },
      "execution_count": 7,
      "outputs": []
    },
    {
      "cell_type": "code",
      "source": [
        "print(f'Prediction before training: f(5) = {model(X_test).item():.3f}')\n",
        "\n",
        "# 2) Define loss and optimizer\n",
        "learning_rate = 0.01\n",
        "n_iters = 100\n",
        "\n",
        "loss = nn.MSELoss()\n",
        "# model.parameters > [w,b]\n",
        "optimizer = torch.optim.SGD(model.parameters(), lr=learning_rate)\n",
        "\n",
        "# 3) Training loop\n",
        "for epoch in range(n_iters):\n",
        "    # predict = forward pass with our model\n",
        "    y_predicted = model(X)\n",
        "\n",
        "    # loss\n",
        "    l = loss(Y, y_predicted)\n",
        "\n",
        "    # calculate gradients = backward pass\n",
        "    l.backward()\n",
        "\n",
        "    # update weights\n",
        "    optimizer.step()\n",
        "\n",
        "    # zero the gradients after updating\n",
        "    optimizer.zero_grad()\n",
        "\n",
        "    if epoch % 10 == 0:\n",
        "        [w, b] = model.parameters() # unpack parameters\n",
        "        print('epoch ', epoch+1, ': w = ', w[0][0].item(), ' loss = ', l)\n",
        "\n",
        "print(f'Prediction after training: f(5) = {model(X_test).item():.3f}')"
      ],
      "metadata": {
        "colab": {
          "base_uri": "https://localhost:8080/"
        },
        "id": "HA-tIYDGRBfO",
        "outputId": "08eaa114-fd86-4050-a31b-7fb51dae2e3f"
      },
      "execution_count": 11,
      "outputs": [
        {
          "output_type": "stream",
          "name": "stdout",
          "text": [
            "Prediction before training: f(5) = 9.995\n",
            "epoch  1 : w =  1.9975221157073975  loss =  tensor(8.9179e-06, grad_fn=<MseLossBackward0>)\n",
            "epoch  11 : w =  1.9975953102111816  loss =  tensor(8.3983e-06, grad_fn=<MseLossBackward0>)\n",
            "epoch  21 : w =  1.9976662397384644  loss =  tensor(7.9100e-06, grad_fn=<MseLossBackward0>)\n",
            "epoch  31 : w =  1.9977352619171143  loss =  tensor(7.4498e-06, grad_fn=<MseLossBackward0>)\n",
            "epoch  41 : w =  1.9978021383285522  loss =  tensor(7.0159e-06, grad_fn=<MseLossBackward0>)\n",
            "epoch  51 : w =  1.9978671073913574  loss =  tensor(6.6076e-06, grad_fn=<MseLossBackward0>)\n",
            "epoch  61 : w =  1.9979300498962402  loss =  tensor(6.2232e-06, grad_fn=<MseLossBackward0>)\n",
            "epoch  71 : w =  1.9979912042617798  loss =  tensor(5.8606e-06, grad_fn=<MseLossBackward0>)\n",
            "epoch  81 : w =  1.9980504512786865  loss =  tensor(5.5199e-06, grad_fn=<MseLossBackward0>)\n",
            "epoch  91 : w =  1.9981080293655396  loss =  tensor(5.1988e-06, grad_fn=<MseLossBackward0>)\n",
            "Prediction after training: f(5) = 9.996\n"
          ]
        }
      ]
    },
    {
      "cell_type": "code",
      "source": [
        ""
      ],
      "metadata": {
        "id": "KEehz9ZzRBch"
      },
      "execution_count": null,
      "outputs": []
    },
    {
      "cell_type": "code",
      "source": [
        ""
      ],
      "metadata": {
        "id": "3JgqGnyLRBZ4"
      },
      "execution_count": null,
      "outputs": []
    }
  ]
}