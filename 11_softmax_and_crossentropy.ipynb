{
  "nbformat": 4,
  "nbformat_minor": 0,
  "metadata": {
    "colab": {
      "name": "11_softmax_and_crossentropy.ipynb",
      "provenance": [],
      "authorship_tag": "ABX9TyMIo3TwYqHqCxfR1WEG+TPA",
      "include_colab_link": true
    },
    "kernelspec": {
      "name": "python3",
      "display_name": "Python 3"
    },
    "language_info": {
      "name": "python"
    }
  },
  "cells": [
    {
      "cell_type": "markdown",
      "metadata": {
        "id": "view-in-github",
        "colab_type": "text"
      },
      "source": [
        "<a href=\"https://colab.research.google.com/github/z-arabi/pytorchTutorial/blob/master/11_softmax_and_crossentropy.ipynb\" target=\"_parent\"><img src=\"https://colab.research.google.com/assets/colab-badge.svg\" alt=\"Open In Colab\"/></a>"
      ]
    },
    {
      "cell_type": "code",
      "source": [
        "import torch\n",
        "import torch.nn as nn\n",
        "import numpy as np"
      ],
      "metadata": {
        "id": "GfB9nrRpG273"
      },
      "execution_count": 2,
      "outputs": []
    },
    {
      "cell_type": "code",
      "source": [
        "#\n",
        "#        -> 2.0              -> 0.65  \n",
        "# Linear -> 1.0  -> Softmax  -> 0.25   -> CrossEntropy(y, y_hat)\n",
        "#        -> 0.1              -> 0.1                   \n",
        "#\n",
        "#     scores(logits)      probabilities\n",
        "#                           sum = 1.0\n",
        "#"
      ],
      "metadata": {
        "id": "ZprO-1pUG24-"
      },
      "execution_count": null,
      "outputs": []
    },
    {
      "cell_type": "code",
      "source": [
        "'''\n",
        "just one axis\n",
        "(col,row)\n",
        "(depth,col,row)\n",
        "'''\n",
        "\n",
        "a = np.array([[1,2],[3,4]])\n",
        "print(np.sum(a,axis=0)) #sum of cols\n",
        "print(np.sum(a,axis=1)) # sum of rows\n",
        "\n",
        "b = np.array([[1],[2],[3]])\n",
        "print(np.sum(b,axis=0)) #sum of cols\n",
        "print(np.sum(b,axis=1)) # sum of rows\n",
        "\n",
        "# for the one dim array all are diffrent from pevious\n",
        "c = np.array([1,2,3])\n",
        "print(np.sum(c,axis=0)) #sum of cols\n",
        "# print(np.sum(c,axis=1)) #error > dowsn't have anothee axis just one axis"
      ],
      "metadata": {
        "colab": {
          "base_uri": "https://localhost:8080/"
        },
        "id": "AGj9cIOpI3xq",
        "outputId": "62aea57c-fa82-43a0-9134-08ec1f666696"
      },
      "execution_count": null,
      "outputs": [
        {
          "output_type": "stream",
          "name": "stdout",
          "text": [
            "[4 6]\n",
            "[3 7]\n",
            "[6]\n",
            "[1 2 3]\n",
            "6\n"
          ]
        }
      ]
    },
    {
      "cell_type": "code",
      "source": [
        "# Softmax applies the exponential function to each element, and normalizes\n",
        "# by dividing by the sum of all these exponentials\n",
        "# -> squashes the output to be between 0 and 1 = probability\n",
        "# sum of all probabilities is 1\n",
        "def softmax(x):\n",
        "    return np.exp(x) / np.sum(np.exp(x), axis=0)\n",
        "\n",
        "x = np.array([2.0, 1.0, 0.1])\n",
        "print(x.shape)\n",
        "outputs = softmax(x)\n",
        "print('softmax numpy:', outputs)"
      ],
      "metadata": {
        "colab": {
          "base_uri": "https://localhost:8080/"
        },
        "id": "lDBC5gP9MTHG",
        "outputId": "c8e2c4bc-df8b-4da3-8523-40da9be675b9"
      },
      "execution_count": null,
      "outputs": [
        {
          "output_type": "stream",
          "name": "stdout",
          "text": [
            "(3,)\n",
            "softmax numpy: [0.65900114 0.24243297 0.09856589]\n"
          ]
        }
      ]
    },
    {
      "cell_type": "code",
      "source": [
        "# the functio was on the np cal > the torch has its own functio n\n",
        "x = torch.tensor([2.0, 1.0, 0.1])\n",
        "print(x.shape)\n",
        "outputs = torch.softmax(x,dim=0) # dim=0 along values along first axis\n",
        "print('softmax torch:', outputs)"
      ],
      "metadata": {
        "colab": {
          "base_uri": "https://localhost:8080/"
        },
        "id": "UJeFWcd6NAYl",
        "outputId": "33d62931-d4aa-4d42-8035-1c553ac9228c"
      },
      "execution_count": null,
      "outputs": [
        {
          "output_type": "stream",
          "name": "stdout",
          "text": [
            "torch.Size([3])\n",
            "softmax torch: tensor([0.6590, 0.2424, 0.0986])\n"
          ]
        }
      ]
    },
    {
      "cell_type": "code",
      "source": [
        "# softmax > defines the highest probability as an answer\n",
        "# cross-ent > the diff between the actual answer and predicted one\n",
        "# in classification to output the cross ent > the actual output must one hotted +\n",
        "# for the predicted ones wemust have probabilities  (Softmax)\n",
        "# Cross entropy > loss metrics\n",
        "# Cross-entropy loss, or log loss, measures the performance of a classification model \n",
        "# whose output is a probability value between 0 and 1. \n",
        "# -> loss increases as the predicted probability diverges from the actual label\n",
        "def cross_entropy(actual, predicted):\n",
        "    loss = -np.sum(actual * np.log(predicted))\n",
        "    return loss\n",
        "\n",
        "def cross_entropy_norm(actual,predicted):\n",
        "    loss = -np.sum(actual * np.log(predicted))\n",
        "    return loss/ float(predicted.shape[0])"
      ],
      "metadata": {
        "id": "GW3_NkDhNQq6"
      },
      "execution_count": null,
      "outputs": []
    },
    {
      "cell_type": "code",
      "source": [
        "# y must be one hot encoded\n",
        "# if class 0: [1 0 0]\n",
        "# if class 1: [0 1 0]\n",
        "# if class 2: [0 0 1]\n",
        "Y = np.array([1, 0, 0])\n",
        "\n",
        "Y_pred_good =  softmax(np.array([2.0, 1.0, 0.1]))\n",
        "Y_pred_bad =  softmax(np.array([0.5, 2.0, 0.3]))\n",
        "\n",
        "print(Y_pred_good)\n",
        "print(Y_pred_bad)\n",
        "\n",
        "l1 = cross_entropy(Y, Y_pred_good)\n",
        "l2 = cross_entropy(Y, Y_pred_bad)\n",
        "l1n = cross_entropy_norm(Y, Y_pred_good)\n",
        "l2n = cross_entropy_norm(Y, Y_pred_bad)\n",
        "print(f'Loss1 numpy: {l1:.4f} , {l1n:.4f}')\n",
        "print(f'Loss2 numpy: {l2:.4f} , {l2n:.4f}')"
      ],
      "metadata": {
        "colab": {
          "base_uri": "https://localhost:8080/"
        },
        "id": "1NxsWMo6O7Jf",
        "outputId": "97e163bc-27de-4884-e1aa-59e61e240b41"
      },
      "execution_count": null,
      "outputs": [
        {
          "output_type": "stream",
          "name": "stdout",
          "text": [
            "[0.65900114 0.24243297 0.09856589]\n",
            "[0.15871958 0.71133182 0.1299486 ]\n",
            "Loss1 numpy: 0.4170 , 0.1390\n",
            "Loss2 numpy: 1.8406 , 0.6135\n"
          ]
        }
      ]
    },
    {
      "cell_type": "code",
      "source": [
        "# CrossEntropyLoss in PyTorch (applies Softmax)\n",
        "# nn.LogSoftmax + nn.NLLLoss\n",
        "# NLLLoss = negative log likelihood loss\n",
        "loss = nn.CrossEntropyLoss()\n",
        "# loss(input, target)\n",
        "\n",
        "# target is of size nSamples = 1\n",
        "# each element has class label: 0, 1, or 2\n",
        "# Y (=target) contains class labels, not one-hot\n",
        "Y = torch.tensor([0])\n",
        "\n",
        "# the actual is not one hot + the predicted is not softmax\n",
        "# input is of size nSamples x nClasses = 1 x 3 ===> 3 classes for one sample\n",
        "# y_pred (=input) must be raw, unnormalizes scores (logits) for each class, not softmax\n",
        "Y_pred_good = torch.tensor([[2.0, 1.0, 0.1]])\n",
        "Y_pred_bad = torch.tensor([[0.5, 2.0, 0.3]])\n",
        "\n",
        "l1 = loss(Y_pred_good, Y)\n",
        "l2 = loss(Y_pred_bad, Y)\n",
        "print(f'PyTorch Loss1: {l1.item():.4f}')\n",
        "print(f'PyTorch Loss2: {l2.item():.4f}')"
      ],
      "metadata": {
        "colab": {
          "base_uri": "https://localhost:8080/"
        },
        "id": "-PxEzAEPTGL2",
        "outputId": "e0718f43-567b-4daf-c4cd-1cd6af870d97"
      },
      "execution_count": null,
      "outputs": [
        {
          "output_type": "stream",
          "name": "stdout",
          "text": [
            "PyTorch Loss1: 0.4170\n",
            "PyTorch Loss2: 1.8406\n"
          ]
        }
      ]
    },
    {
      "cell_type": "code",
      "source": [
        "# index is important we don't need value\n",
        "print(torch.max(Y_pred_good, dim=1))\n",
        "\n",
        "# get predictions\n",
        "value1 , predictions1 = torch.max(Y_pred_good, 1)\n",
        "_, predictions2 = torch.max(Y_pred_bad, 1)\n",
        "print(f'Actual class: {Y.item()}, Y_pred1: {predictions1.item()}, Y_pred2: {predictions2.item()}')\n"
      ],
      "metadata": {
        "colab": {
          "base_uri": "https://localhost:8080/"
        },
        "id": "xar0uzGBVSQW",
        "outputId": "26d61647-6e94-47fd-814b-74ac0ba6f7b2"
      },
      "execution_count": null,
      "outputs": [
        {
          "output_type": "stream",
          "name": "stdout",
          "text": [
            "torch.return_types.max(\n",
            "values=tensor([2.]),\n",
            "indices=tensor([0]))\n",
            "Actual class: 0, Y_pred1: 0, Y_pred2: 1\n"
          ]
        }
      ]
    },
    {
      "cell_type": "code",
      "source": [
        "# allows batch loss for multiple samples\n",
        "# doesn't matter how many samples u have > for each sample u have just one output\n",
        "\n",
        "# target is of size nBatch = 3\n",
        "# each element has class label: 0, 1, or 2\n",
        "Y = torch.tensor([2, 0, 1])\n",
        "\n",
        "# input is of size nBatch x nClasses = 3 x 3\n",
        "# Y_pred are logits (not softmax)\n",
        "Y_pred_good = torch.tensor(\n",
        "    [[0.1, 0.2, 3.9], # predict class 2\n",
        "    [1.2, 0.1, 0.3], # predict class 0\n",
        "    [0.3, 2.2, 0.2]]) # predict class 1\n",
        "\n",
        "Y_pred_bad = torch.tensor(\n",
        "    [[0.9, 0.2, 0.1],\n",
        "    [0.1, 0.3, 1.5],\n",
        "    [1.2, 0.2, 0.5]])\n",
        "\n",
        "l1 = loss(Y_pred_good, Y)\n",
        "l2 = loss(Y_pred_bad, Y)\n",
        "print(f'Batch Loss1:  {l1.item():.4f}')\n",
        "print(f'Batch Loss2: {l2.item():.4f}')\n",
        "\n",
        "# get predictions\n",
        "_, predictions1 = torch.max(Y_pred_good, 1)\n",
        "_, predictions2 = torch.max(Y_pred_bad, 1)\n",
        "print(f'Actual class: {Y}, Y_pred1: {predictions1}, Y_pred2: {predictions2}')"
      ],
      "metadata": {
        "colab": {
          "base_uri": "https://localhost:8080/"
        },
        "id": "Ki9qps3-VrN9",
        "outputId": "2661e929-9a44-4361-c512-dd8a1ec59fa1"
      },
      "execution_count": null,
      "outputs": [
        {
          "output_type": "stream",
          "name": "stdout",
          "text": [
            "Batch Loss1:  0.2834\n",
            "Batch Loss2: 1.6418\n",
            "Actual class: tensor([2, 0, 1]), Y_pred1: tensor([2, 0, 1]), Y_pred2: tensor([0, 2, 0])\n"
          ]
        }
      ]
    },
    {
      "cell_type": "code",
      "source": [
        "# Multiclass problem\n",
        "class NeuralNetMul(nn.Module):\n",
        "    def __init__(self, input_size, hidden_size, num_classes):\n",
        "        super(NeuralNetMul, self).__init__()\n",
        "        self.linear1 = nn.Linear(input_size, hidden_size) \n",
        "        self.relu = nn.ReLU()\n",
        "        self.linear2 = nn.Linear(hidden_size, num_classes)  \n",
        "    \n",
        "    def forward(self, x):\n",
        "        out = self.linear1(x)\n",
        "        out = self.relu(out)\n",
        "        out = self.linear2(out)\n",
        "        # no softmax at the end\n",
        "        return out\n",
        "\n",
        "model = NeuralNetMul(input_size=28*28, hidden_size=5, num_classes=3)\n",
        "criterion = nn.CrossEntropyLoss()  # (applies Softmax)\n",
        "# model.forward(X) >> X is 28*28\n",
        "# criterian(out,Y_actual)"
      ],
      "metadata": {
        "id": "k7PeikQtkj8z"
      },
      "execution_count": null,
      "outputs": []
    },
    {
      "cell_type": "code",
      "source": [
        "# for binary classifcation > u can use just one output + sigmoid function\n",
        "# OR two outputs + softmax functions\n",
        "\n",
        "# Binary classification\n",
        "#directly add activation functions as layers\n",
        "class NeuralNetBin1(nn.Module):\n",
        "    def __init__(self, input_size, hidden_size):\n",
        "        super(NeuralNetBin1, self).__init__()\n",
        "        self.linear1 = nn.Linear(input_size, hidden_size) \n",
        "        self.relu = nn.ReLU()\n",
        "        # nn.Sigmoid / nn.Softmax / nn.TanH / nn.LeakyReLU\n",
        "        self.linear2 = nn.Linear(hidden_size, 1)  \n",
        "        self.sigmoid = nn.Sigmoid()\n",
        "    \n",
        "    def forward(self, x):\n",
        "        out = self.linear1(x)\n",
        "        out = self.relu(out)\n",
        "        out = self.linear2(out)\n",
        "        out = self.sigmoid(out)\n",
        "        return out\n",
        "\n",
        "\n",
        "class NeuralNetBin2(nn.Module):\n",
        "    def __init__(self, input_size, hidden_size):\n",
        "        super(NeuralNetBin2, self).__init__()\n",
        "        self.linear1 = nn.Linear(input_size, hidden_size) \n",
        "        self.relu = nn.ReLU()\n",
        "        self.linear2 = nn.Linear(hidden_size, 1)  \n",
        "    \n",
        "    def forward(self, x):\n",
        "        out = self.linear1(x)\n",
        "        out = self.relu(out)\n",
        "        out = self.linear2(out)\n",
        "        # sigmoid at the end\n",
        "        y_pred = torch.sigmoid(out)\n",
        "        return y_pred\n",
        "\n",
        "# use activation functions directly in forward pass\n",
        "class NeuralNetBin3(nn.Module):\n",
        "    def __init__(self, input_size, hidden_size):\n",
        "        super(NeuralNetBin3, self).__init__()\n",
        "        self.linear1 = nn.Linear(input_size, hidden_size)\n",
        "        self.linear2 = nn.Linear(hidden_size, 1)  \n",
        "    \n",
        "    def forward(self, x):\n",
        "        # torch.softmax / torch.tanh\n",
        "        # import torch.nn.functional as F > F.relu / F.leaky_relu\n",
        "        out = self.linear1(x)\n",
        "        out = torch.relu(out)\n",
        "        out = self.linear2(out)\n",
        "        out = torch.sigmoid(out)\n",
        "        return out\n",
        "\n",
        "model1 = NeuralNetBin1(input_size=28*28, hidden_size=5)\n",
        "model2 = NeuralNetBin2(input_size=28*28, hidden_size=5)\n",
        "# binary cross ent\n",
        "criterion = nn.BCELoss()\n",
        "# model.forward(X) >> X is 28*28\n",
        "# criterian(out,Y_actual)"
      ],
      "metadata": {
        "id": "mZ3iW_gdW3Xq"
      },
      "execution_count": 5,
      "outputs": []
    }
  ]
}